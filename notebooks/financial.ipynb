{
 "cells": [
  {
   "cell_type": "markdown",
   "id": "81080542",
   "metadata": {},
   "source": [
    "# Financial Notebook\n",
    "Random charts and data analysis for questions regarding finance."
   ]
  },
  {
   "cell_type": "markdown",
   "id": "6f1f54de",
   "metadata": {},
   "source": [
    "## Missing Best and Worst Days\n",
    "We are commonly presented with data that shows what happens if you miss the best days in the market vs buy and hold.  But frequently those charts don't show what happens if you miss the worst days or if you miss the best and worst days, etc.  The point of this section is to analyze that data and see what the truth is."
   ]
  },
  {
   "cell_type": "code",
   "execution_count": 5,
   "id": "2bb18df0",
   "metadata": {},
   "outputs": [
    {
     "name": "stderr",
     "output_type": "stream",
     "text": [
      "C:\\Users\\rmiller\\AppData\\Local\\Temp\\ipykernel_22256\\2122041154.py:10: FutureWarning: YF.download() has changed argument auto_adjust default to True\n",
      "  df = yf.download(\"^GSPC\", start=\"1990-01-01\")\n",
      "Failed to get ticker '^GSPC' reason: Failed to perform, curl: (60) SSL certificate problem: unable to get local issuer certificate. See https://curl.se/libcurl/c/libcurl-errors.html first for more details.\n",
      "[*********************100%***********************]  1 of 1 completed\n",
      "\n",
      "1 Failed download:\n",
      "['^GSPC']: YFTzMissingError('possibly delisted; no timezone found')\n"
     ]
    },
    {
     "data": {
      "text/html": [
       "<div>\n",
       "<style scoped>\n",
       "    .dataframe tbody tr th:only-of-type {\n",
       "        vertical-align: middle;\n",
       "    }\n",
       "\n",
       "    .dataframe tbody tr th {\n",
       "        vertical-align: top;\n",
       "    }\n",
       "\n",
       "    .dataframe thead tr th {\n",
       "        text-align: left;\n",
       "    }\n",
       "\n",
       "    .dataframe thead tr:last-of-type th {\n",
       "        text-align: right;\n",
       "    }\n",
       "</style>\n",
       "<table border=\"1\" class=\"dataframe\">\n",
       "  <thead>\n",
       "    <tr>\n",
       "      <th>Price</th>\n",
       "      <th>SP500</th>\n",
       "    </tr>\n",
       "    <tr>\n",
       "      <th>Ticker</th>\n",
       "      <th>^GSPC</th>\n",
       "    </tr>\n",
       "    <tr>\n",
       "      <th>Date</th>\n",
       "      <th></th>\n",
       "    </tr>\n",
       "  </thead>\n",
       "  <tbody>\n",
       "  </tbody>\n",
       "</table>\n",
       "</div>"
      ],
      "text/plain": [
       "Empty DataFrame\n",
       "Columns: [(SP500, ^GSPC)]\n",
       "Index: []"
      ]
     },
     "execution_count": 5,
     "metadata": {},
     "output_type": "execute_result"
    }
   ],
   "source": [
    "# Get around SSL issues with work network - Does not seem to work.  Annoying.\n",
    "import os\n",
    "os.environ['CURL_CA_BUNDLE'] = ''\n",
    "os.environ['REQUESTS_CA_BUNDLE'] = ''\n",
    "\n",
    "import yfinance as yf\n",
    "import pandas as pd\n",
    "\n",
    "# Pull SPX price-only data\n",
    "df = yf.download(\"^GSPC\", start=\"1990-01-01\")\n",
    "df = df[[\"Adj Close\"]].rename(columns={\"Adj Close\": \"SP500\"})\n",
    "df.head()"
   ]
  }
 ],
 "metadata": {
  "kernelspec": {
   "display_name": "Python 3",
   "language": "python",
   "name": "python3"
  },
  "language_info": {
   "codemirror_mode": {
    "name": "ipython",
    "version": 3
   },
   "file_extension": ".py",
   "mimetype": "text/x-python",
   "name": "python",
   "nbconvert_exporter": "python",
   "pygments_lexer": "ipython3",
   "version": "3.13.3"
  }
 },
 "nbformat": 4,
 "nbformat_minor": 5
}
