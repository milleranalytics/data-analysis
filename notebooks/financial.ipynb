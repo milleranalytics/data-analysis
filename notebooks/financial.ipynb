{
 "cells": [
  {
   "cell_type": "markdown",
   "id": "81080542",
   "metadata": {},
   "source": [
    "# Financial Notebook"
   ]
  }
 ],
 "metadata": {
  "language_info": {
   "name": "python"
  }
 },
 "nbformat": 4,
 "nbformat_minor": 5
}
